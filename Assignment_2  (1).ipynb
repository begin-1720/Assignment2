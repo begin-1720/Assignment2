{
 "cells": [
  {
   "cell_type": "code",
   "execution_count": 14,
   "id": "c8a25083",
   "metadata": {},
   "outputs": [],
   "source": [
    "file_path=r\"C:\\Users\\HP\\Downloads\\Star_Assignments\\Insurance_auto_data.csv\""
   ]
  },
  {
   "cell_type": "markdown",
   "id": "1e35b185",
   "metadata": {},
   "source": [
    "# Task 1"
   ]
  },
  {
   "cell_type": "markdown",
   "id": "74589719",
   "metadata": {},
   "source": [
    "Cleaned the dataset using basic Python (no pandas/numpy).\n",
    "- Opened and read the CSV file line by line.\n",
    "- Removed or replaced missing/null values with None.\n",
    "- Converted numeric fields to appropriate data types (int or float).\n",
    "- Stored cleaned data as a list of dictionaries for further analysis. "
   ]
  },
  {
   "cell_type": "code",
   "execution_count": 15,
   "id": "7d5b1079",
   "metadata": {},
   "outputs": [],
   "source": [
    "with open(file_path,\"r\")as f:\n",
    "    raw_lines=f.readlines()"
   ]
  },
  {
   "cell_type": "code",
   "execution_count": 16,
   "id": "7b760e35",
   "metadata": {},
   "outputs": [
    {
     "data": {
      "text/plain": [
       "['CLAIM_ID,CLAIM_DATE,CUSTOMER_ID,CLAIM_AMOUNT,PREMIUM_COLLECTED,PAID_AMOUNT,CITY,REJECTION_REMARKS\\n',\n",
       " 'CLM100021,2025-04-01,CUST14285,10419.0,2198.59,6964.46,PUNE,\\n',\n",
       " 'CLM100013,2025-04-01,CUST26471,42468.0,8982.2,30119.67,GUWAHATI,\\n',\n",
       " 'CLM100099,2025-04-02,CUST29309,55897.0,1861.78,55657.15,GUWAHATI,\\n',\n",
       " 'CLM100044,2025-04-02,CUST30275,71785.0,13154.99,53629.3,PUNE,\\n']"
      ]
     },
     "execution_count": 16,
     "metadata": {},
     "output_type": "execute_result"
    }
   ],
   "source": [
    "raw_lines[:5]"
   ]
  },
  {
   "cell_type": "code",
   "execution_count": 17,
   "id": "296789fb",
   "metadata": {},
   "outputs": [],
   "source": [
    "def clean_data(file_path):\n",
    "    with open(file_path,\"r\")as f:\n",
    "        lines=f.readlines()\n",
    "    \n",
    "    header=lines[0].strip().split(',')\n",
    "    cleaned_data=[]\n",
    "    \n",
    "    for line in lines[1:]:\n",
    "        values=line.strip().split(',')\n",
    "        # Skip rows with missing number of columns\n",
    "        if len(values)!=len(header):\n",
    "            continue \n",
    "        \n",
    "        cleaned_row=[]\n",
    "        for value in values:\n",
    "            cleaned_value=value.strip()\n",
    "             # Handle empty values\n",
    "            if cleaned_value=='':\n",
    "                cleaned_value=None\n",
    "             # Try to convert to float or int if numeric\n",
    "            elif cleaned_value.replace('.','',1).isdigit():\n",
    "                if '.' in cleaned_value:\n",
    "                    cleaned_value=float(cleaned_value)\n",
    "                else:\n",
    "                    cleaned_value=int(cleaned_value)\n",
    "                \n",
    "            cleaned_row.append(cleaned_value)\n",
    "        # Convert list of values to dictionary\n",
    "        row_dict=dict(zip(header,cleaned_row))\n",
    "        cleaned_data.append(row_dict)\n",
    "        \n",
    "    return cleaned_data\n"
   ]
  },
  {
   "cell_type": "code",
   "execution_count": 18,
   "id": "609188f8",
   "metadata": {},
   "outputs": [],
   "source": [
    "cleaned_insurance_data=clean_data(file_path)"
   ]
  },
  {
   "cell_type": "code",
   "execution_count": 19,
   "id": "2bd567eb",
   "metadata": {},
   "outputs": [
    {
     "data": {
      "text/plain": [
       "[{'CLAIM_ID': 'CLM100021',\n",
       "  'CLAIM_DATE': '2025-04-01',\n",
       "  'CUSTOMER_ID': 'CUST14285',\n",
       "  'CLAIM_AMOUNT': 10419.0,\n",
       "  'PREMIUM_COLLECTED': 2198.59,\n",
       "  'PAID_AMOUNT': 6964.46,\n",
       "  'CITY': 'PUNE',\n",
       "  'REJECTION_REMARKS': None},\n",
       " {'CLAIM_ID': 'CLM100013',\n",
       "  'CLAIM_DATE': '2025-04-01',\n",
       "  'CUSTOMER_ID': 'CUST26471',\n",
       "  'CLAIM_AMOUNT': 42468.0,\n",
       "  'PREMIUM_COLLECTED': 8982.2,\n",
       "  'PAID_AMOUNT': 30119.67,\n",
       "  'CITY': 'GUWAHATI',\n",
       "  'REJECTION_REMARKS': None},\n",
       " {'CLAIM_ID': 'CLM100099',\n",
       "  'CLAIM_DATE': '2025-04-02',\n",
       "  'CUSTOMER_ID': 'CUST29309',\n",
       "  'CLAIM_AMOUNT': 55897.0,\n",
       "  'PREMIUM_COLLECTED': 1861.78,\n",
       "  'PAID_AMOUNT': 55657.15,\n",
       "  'CITY': 'GUWAHATI',\n",
       "  'REJECTION_REMARKS': None},\n",
       " {'CLAIM_ID': 'CLM100044',\n",
       "  'CLAIM_DATE': '2025-04-02',\n",
       "  'CUSTOMER_ID': 'CUST30275',\n",
       "  'CLAIM_AMOUNT': 71785.0,\n",
       "  'PREMIUM_COLLECTED': 13154.99,\n",
       "  'PAID_AMOUNT': 53629.3,\n",
       "  'CITY': 'PUNE',\n",
       "  'REJECTION_REMARKS': None},\n",
       " {'CLAIM_ID': 'CLM100014',\n",
       "  'CLAIM_DATE': '2025-04-02',\n",
       "  'CUSTOMER_ID': 'CUST38169',\n",
       "  'CLAIM_AMOUNT': 18565.0,\n",
       "  'PREMIUM_COLLECTED': 2606.4,\n",
       "  'PAID_AMOUNT': 12849.24,\n",
       "  'CITY': 'RANCHI',\n",
       "  'REJECTION_REMARKS': None}]"
      ]
     },
     "execution_count": 19,
     "metadata": {},
     "output_type": "execute_result"
    }
   ],
   "source": [
    "cleaned_insurance_data[:5]"
   ]
  },
  {
   "cell_type": "markdown",
   "id": "1aa2a0a3",
   "metadata": {},
   "source": [
    "# Task 2"
   ]
  },
  {
   "cell_type": "markdown",
   "id": "e00a58e3",
   "metadata": {},
   "source": [
    "Analyzed claims data to identify a city for potential shutdown.\n",
    "- Aggregated total claims, premiums, and paid amounts for four target cities.\n",
    "- Calculated claim settlement ratios.\n",
    "- Identified Ranchi as the best candidate for closure based on low volume and revenue."
   ]
  },
  {
   "cell_type": "code",
   "execution_count": 20,
   "id": "7fdb547e",
   "metadata": {},
   "outputs": [],
   "source": [
    "target_cities={'PUNE','KOLKATA','RANCHI','GUWAHATI'}"
   ]
  },
  {
   "cell_type": "code",
   "execution_count": 21,
   "id": "fbe9ee7d",
   "metadata": {},
   "outputs": [],
   "source": [
    "from collections import defaultdict"
   ]
  },
  {
   "cell_type": "code",
   "execution_count": 22,
   "id": "e945aba9",
   "metadata": {},
   "outputs": [],
   "source": [
    "def analyze_city_metrics(data):\n",
    "    city_stats=defaultdict(lambda:{\n",
    "        'claims_count':0,\n",
    "        'total_premium':0.0,\n",
    "        'total_claim_amount':0.0,\n",
    "        'total_paid_amount':0.0\n",
    "    })\n",
    "    for row in data:\n",
    "        city=row.get('CITY')\n",
    "        if city not in target_cities:\n",
    "            continue \n",
    "        city_stats[city]['claims_count']+=1\n",
    "        city_stats[city]['total_premium']+=row.get('PREMIUM_COLLECTED')or 0\n",
    "        city_stats[city]['total_claim_amount']+=row.get('CLAIM_AMOUNT')or 0\n",
    "        city_stats[city]['total_paid_amount']+=row.get('PAID_AMOUNT')or 0\n",
    "        \n",
    "    return city_stats\n"
   ]
  },
  {
   "cell_type": "code",
   "execution_count": 23,
   "id": "f22741f5",
   "metadata": {},
   "outputs": [],
   "source": [
    "city_metrics=analyze_city_metrics(cleaned_insurance_data)"
   ]
  },
  {
   "cell_type": "code",
   "execution_count": 24,
   "id": "361b1835",
   "metadata": {},
   "outputs": [
    {
     "name": "stdout",
     "output_type": "stream",
     "text": [
      " PUNE\n",
      "  Total Claims: 37\n",
      "  Total Premium Collected: ₹369254.79\n",
      "  Total Claim Amount: ₹1543919.00\n",
      "  Total Paid Amount: ₹1093273.28\n",
      "  Claim Settlement Ratio: 70.81%\n",
      "----------------------------------------\n",
      " GUWAHATI\n",
      "  Total Claims: 24\n",
      "  Total Premium Collected: ₹261314.84\n",
      "  Total Claim Amount: ₹1148030.00\n",
      "  Total Paid Amount: ₹753189.43\n",
      "  Claim Settlement Ratio: 65.61%\n",
      "----------------------------------------\n",
      " RANCHI\n",
      "  Total Claims: 17\n",
      "  Total Premium Collected: ₹148858.60\n",
      "  Total Claim Amount: ₹570328.00\n",
      "  Total Paid Amount: ₹401142.67\n",
      "  Claim Settlement Ratio: 70.34%\n",
      "----------------------------------------\n",
      " KOLKATA\n",
      "  Total Claims: 16\n",
      "  Total Premium Collected: ₹140279.78\n",
      "  Total Claim Amount: ₹847893.00\n",
      "  Total Paid Amount: ₹636392.57\n",
      "  Claim Settlement Ratio: 75.06%\n",
      "----------------------------------------\n"
     ]
    }
   ],
   "source": [
    "for city, stats in city_metrics.items():\n",
    "    print(f\" {city}\")\n",
    "    print(f\"  Total Claims: {stats['claims_count']}\")\n",
    "    print(f\"  Total Premium Collected: ₹{stats['total_premium']:.2f}\")\n",
    "    print(f\"  Total Claim Amount: ₹{stats['total_claim_amount']:.2f}\")\n",
    "    print(f\"  Total Paid Amount: ₹{stats['total_paid_amount']:.2f}\")\n",
    "    print(f\"  Claim Settlement Ratio: {(stats['total_paid_amount'] / stats['total_claim_amount'] * 100):.2f}%\")\n",
    "    print(\"-\" * 40)\n"
   ]
  },
  {
   "cell_type": "markdown",
   "id": "2bc9273b",
   "metadata": {},
   "source": [
    "# Task3"
   ]
  },
  {
   "cell_type": "markdown",
   "id": "3eed100b",
   "metadata": {},
   "source": [
    "Fixed and applied a rejection classifier function.\n",
    "- Debugged the original complex_rejection_classifier function.\n",
    "- Applied the corrected function to the REJECTION_REMARKS field.\n",
    "- Created a new column REJECTION_CLASS with the classification result for each row."
   ]
  },
  {
   "cell_type": "code",
   "execution_count": 36,
   "id": "23a5094f",
   "metadata": {},
   "outputs": [],
   "source": [
    "#### Dic for mapping\n",
    "REJECTION_REASONS_MAP = {\n",
    "    \"Fake_document\": \"Fake_document\",\n",
    "    \"Not_Covered\": \"Not_Covered\",\n",
    "    \"Policy_expired\": \"Policy_expired\"\n",
    "}\n",
    "\n",
    "##### Function 1 #######\n",
    "def handle_error(error_message):\n",
    "    print(f\"Error: {error_message}\")\n",
    "    return \"Errror\" \n",
    "\n",
    "#### Function 2 #########\n",
    "def contains_rejection_reason(rejection_text, reason):\n",
    "    try:\n",
    "        if rejection_text and isinstance(rejection_text, str):\n",
    "            return reason.lower() in rejection_text.lower()  \n",
    "    except Exceptions as e:\n",
    "        handle_error(f\"Error in contains_rejection_reason: {str(e)}\")\n",
    "        \n",
    "    return False\n",
    "\n",
    "####### Function 3 #######\n",
    "def map_rejection_reason(rejection_text):\n",
    "    try:\n",
    "        if rejection_text and isinstance(rejection_text, str):\n",
    "            for reason, rejection_class in REJECTION_REASONS_MAP.items():\n",
    "                if contains_rejection_reason(rejection_text, reason):  # Check if reason exists in text\n",
    "                    return rejection_class\n",
    "            return \"Unknown\"  \n",
    "        else:\n",
    "            return \"No Remark\"\n",
    "    except Exception as e:\n",
    "        handle_error(f\"Error in map_rejection_reason: {str(e)}\")\n",
    "        return \"Errror\"  \n",
    "    \n",
    "######## Function 4 ##########\n",
    "def complex_rejection_classifier(remark_text):\n",
    "    try:\n",
    "        if not isinstance(remark_text, str) or len(remark_text.strip()) == 0:\n",
    "            return \"no remark\"\n",
    "\n",
    "        ##### Check for each rejection reason\n",
    "        fake_doc = contains_rejection_reason(remark_text, \"Fake_document\")\n",
    "        not_covered = contains_rejection_reason(remark_text, \"Not_Covered\")\n",
    "        policy_expired = contains_rejection_reason(remark_text, \"Policy_expired\")\n",
    "\n",
    "        if fake_doc:\n",
    "            return \"Fake_document\"\n",
    "        elif not_covered:\n",
    "            return \"Not_Covered\"\n",
    "        elif policy_expired:\n",
    "            return \"Policy_expired\"\n",
    "        else:\n",
    "            ### Unknown or null remarks\n",
    "            return map_rejection_reason(remark_text)\n",
    "    except Exception as e:\n",
    "        handle_error(f\"Error in complex_rejection_classifier: {str(e)}\")\n",
    "        return \"Errror\" \n"
   ]
  },
  {
   "cell_type": "markdown",
   "id": "420bbd4c",
   "metadata": {},
   "source": [
    "Apply the classifier to the dataset"
   ]
  },
  {
   "cell_type": "code",
   "execution_count": 52,
   "id": "0dab6d92",
   "metadata": {},
   "outputs": [],
   "source": [
    "for row in cleaned_insurance_data:\n",
    "    if not isinstance(row, dict):\n",
    "        continue \n",
    "    \n",
    "    remark=row.get(\"REJECTION_REMARKS\")\n",
    "    \n",
    "    if remark is not None and isinstance(remark,str) and remark.strip():\n",
    "        row[\"REJECTION_CLASS\"]=complex_rejection_classifier(remark)\n",
    "    else:\n",
    "        row[\"REJECTION_CLASS\"]=\"no remark\""
   ]
  },
  {
   "cell_type": "code",
   "execution_count": 56,
   "id": "19c86502",
   "metadata": {},
   "outputs": [
    {
     "data": {
      "text/plain": [
       "[{'CLAIM_ID': 'CLM100038',\n",
       "  'REJECTION_REMARKS': 'Rejection reason: Policy_expired in verification.',\n",
       "  'REJECTION_CLASS': 'Policy_expired'},\n",
       " {'CLAIM_ID': 'CLM100059',\n",
       "  'REJECTION_REMARKS': 'Policy rejected: Policy_expired noted.',\n",
       "  'REJECTION_CLASS': 'Policy_expired'},\n",
       " {'CLAIM_ID': 'CLM100096',\n",
       "  'REJECTION_REMARKS': 'Fake_document reason led to rejection.',\n",
       "  'REJECTION_CLASS': 'Fake_document'},\n",
       " {'CLAIM_ID': 'CLM100090',\n",
       "  'REJECTION_REMARKS': 'Claim denied due to Policy_expired.',\n",
       "  'REJECTION_CLASS': 'Policy_expired'},\n",
       " {'CLAIM_ID': 'CLM100086',\n",
       "  'REJECTION_REMARKS': 'Case flagged as Policy_expired during audit.',\n",
       "  'REJECTION_CLASS': 'Policy_expired'}]"
      ]
     },
     "execution_count": 56,
     "metadata": {},
     "output_type": "execute_result"
    }
   ],
   "source": [
    "[\n",
    "    {\n",
    "        \"CLAIM_ID\":row[\"CLAIM_ID\"],\n",
    "        \"REJECTION_REMARKS\": row[\"REJECTION_REMARKS\"],\n",
    "        \"REJECTION_CLASS\": row[\"REJECTION_CLASS\"]\n",
    "    }\n",
    "    for row in cleaned_insurance_data\n",
    "    if row[\"REJECTION_REMARKS\"] is not None\n",
    "][:5]"
   ]
  }
 ],
 "metadata": {
  "kernelspec": {
   "display_name": "Python 3 (ipykernel)",
   "language": "python",
   "name": "python3"
  },
  "language_info": {
   "codemirror_mode": {
    "name": "ipython",
    "version": 3
   },
   "file_extension": ".py",
   "mimetype": "text/x-python",
   "name": "python",
   "nbconvert_exporter": "python",
   "pygments_lexer": "ipython3",
   "version": "3.11.3"
  }
 },
 "nbformat": 4,
 "nbformat_minor": 5
}
